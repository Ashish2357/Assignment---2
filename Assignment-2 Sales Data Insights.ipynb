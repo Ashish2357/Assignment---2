{
 "cells": [
  {
   "cell_type": "code",
   "execution_count": 2,
   "id": "276922b5",
   "metadata": {},
   "outputs": [],
   "source": [
    "# import required libraries\n",
    "import pandas as pd\n",
    "import numpy as np"
   ]
  },
  {
   "cell_type": "code",
   "execution_count": 3,
   "id": "0bf06d6c",
   "metadata": {},
   "outputs": [],
   "source": [
    "# import the dataset\n",
    "df = pd.read_csv(r\"D:\\Masai School Data Analytics\\Revision\\Assignment-2\\datset - Sheet1.csv\")"
   ]
  },
  {
   "cell_type": "code",
   "execution_count": 4,
   "id": "25099b69",
   "metadata": {},
   "outputs": [
    {
     "data": {
      "text/html": [
       "<div>\n",
       "<style scoped>\n",
       "    .dataframe tbody tr th:only-of-type {\n",
       "        vertical-align: middle;\n",
       "    }\n",
       "\n",
       "    .dataframe tbody tr th {\n",
       "        vertical-align: top;\n",
       "    }\n",
       "\n",
       "    .dataframe thead th {\n",
       "        text-align: right;\n",
       "    }\n",
       "</style>\n",
       "<table border=\"1\" class=\"dataframe\">\n",
       "  <thead>\n",
       "    <tr style=\"text-align: right;\">\n",
       "      <th></th>\n",
       "      <th>OrderID</th>\n",
       "      <th>Date</th>\n",
       "      <th>Region</th>\n",
       "      <th>CustomerName</th>\n",
       "      <th>Product</th>\n",
       "      <th>Quantity</th>\n",
       "      <th>UnitPrice</th>\n",
       "      <th>TotalSales</th>\n",
       "      <th>PaymentMethod</th>\n",
       "    </tr>\n",
       "  </thead>\n",
       "  <tbody>\n",
       "    <tr>\n",
       "      <th>0</th>\n",
       "      <td>1001</td>\n",
       "      <td>2023-01-15</td>\n",
       "      <td>North</td>\n",
       "      <td>Alice Johnson</td>\n",
       "      <td>Laptop</td>\n",
       "      <td>2.0</td>\n",
       "      <td>700.0</td>\n",
       "      <td>1400.0</td>\n",
       "      <td>Credit Card</td>\n",
       "    </tr>\n",
       "    <tr>\n",
       "      <th>1</th>\n",
       "      <td>1002</td>\n",
       "      <td>2023-01-16</td>\n",
       "      <td>South</td>\n",
       "      <td>Rahul Mehta</td>\n",
       "      <td>Mobile Phone</td>\n",
       "      <td>5.0</td>\n",
       "      <td>300.0</td>\n",
       "      <td>1500.0</td>\n",
       "      <td>UPI</td>\n",
       "    </tr>\n",
       "    <tr>\n",
       "      <th>2</th>\n",
       "      <td>1003</td>\n",
       "      <td>2023-01-17</td>\n",
       "      <td>East</td>\n",
       "      <td>Fatima Noor</td>\n",
       "      <td>Headphones</td>\n",
       "      <td>10.0</td>\n",
       "      <td>50.0</td>\n",
       "      <td>500.0</td>\n",
       "      <td>Debit Card</td>\n",
       "    </tr>\n",
       "    <tr>\n",
       "      <th>3</th>\n",
       "      <td>1004</td>\n",
       "      <td>2023-01-18</td>\n",
       "      <td>West</td>\n",
       "      <td>NaN</td>\n",
       "      <td>Laptop</td>\n",
       "      <td>1.0</td>\n",
       "      <td>720.0</td>\n",
       "      <td>720.0</td>\n",
       "      <td>Credit Card</td>\n",
       "    </tr>\n",
       "    <tr>\n",
       "      <th>4</th>\n",
       "      <td>1005</td>\n",
       "      <td>2023-01-19</td>\n",
       "      <td>North</td>\n",
       "      <td>Zoe Carter</td>\n",
       "      <td>Mobile Phone</td>\n",
       "      <td>3.0</td>\n",
       "      <td>NaN</td>\n",
       "      <td>NaN</td>\n",
       "      <td>UPI</td>\n",
       "    </tr>\n",
       "  </tbody>\n",
       "</table>\n",
       "</div>"
      ],
      "text/plain": [
       "   OrderID        Date Region   CustomerName       Product  Quantity  \\\n",
       "0     1001  2023-01-15  North  Alice Johnson        Laptop       2.0   \n",
       "1     1002  2023-01-16  South    Rahul Mehta  Mobile Phone       5.0   \n",
       "2     1003  2023-01-17   East    Fatima Noor    Headphones      10.0   \n",
       "3     1004  2023-01-18   West            NaN        Laptop       1.0   \n",
       "4     1005  2023-01-19  North     Zoe Carter  Mobile Phone       3.0   \n",
       "\n",
       "   UnitPrice  TotalSales PaymentMethod  \n",
       "0      700.0      1400.0   Credit Card  \n",
       "1      300.0      1500.0           UPI  \n",
       "2       50.0       500.0    Debit Card  \n",
       "3      720.0       720.0   Credit Card  \n",
       "4        NaN         NaN           UPI  "
      ]
     },
     "execution_count": 4,
     "metadata": {},
     "output_type": "execute_result"
    }
   ],
   "source": [
    "# show the first five rows\n",
    "df.head()"
   ]
  },
  {
   "cell_type": "code",
   "execution_count": 12,
   "id": "c4db3f1a",
   "metadata": {},
   "outputs": [
    {
     "data": {
      "text/plain": [
       "(20, 9)"
      ]
     },
     "execution_count": 12,
     "metadata": {},
     "output_type": "execute_result"
    }
   ],
   "source": [
    "# shape of the dataset\n",
    "df.shape"
   ]
  },
  {
   "cell_type": "code",
   "execution_count": 14,
   "id": "d605d357",
   "metadata": {},
   "outputs": [
    {
     "data": {
      "text/html": [
       "<div>\n",
       "<style scoped>\n",
       "    .dataframe tbody tr th:only-of-type {\n",
       "        vertical-align: middle;\n",
       "    }\n",
       "\n",
       "    .dataframe tbody tr th {\n",
       "        vertical-align: top;\n",
       "    }\n",
       "\n",
       "    .dataframe thead th {\n",
       "        text-align: right;\n",
       "    }\n",
       "</style>\n",
       "<table border=\"1\" class=\"dataframe\">\n",
       "  <thead>\n",
       "    <tr style=\"text-align: right;\">\n",
       "      <th></th>\n",
       "      <th>count</th>\n",
       "      <th>mean</th>\n",
       "      <th>std</th>\n",
       "      <th>min</th>\n",
       "      <th>25%</th>\n",
       "      <th>50%</th>\n",
       "      <th>75%</th>\n",
       "      <th>max</th>\n",
       "    </tr>\n",
       "  </thead>\n",
       "  <tbody>\n",
       "    <tr>\n",
       "      <th>OrderID</th>\n",
       "      <td>20.0</td>\n",
       "      <td>1010.500000</td>\n",
       "      <td>5.916080</td>\n",
       "      <td>1001.0</td>\n",
       "      <td>1005.75</td>\n",
       "      <td>1010.5</td>\n",
       "      <td>1015.25</td>\n",
       "      <td>1020.0</td>\n",
       "    </tr>\n",
       "    <tr>\n",
       "      <th>Quantity</th>\n",
       "      <td>19.0</td>\n",
       "      <td>2.894737</td>\n",
       "      <td>2.233451</td>\n",
       "      <td>1.0</td>\n",
       "      <td>1.50</td>\n",
       "      <td>2.0</td>\n",
       "      <td>3.50</td>\n",
       "      <td>10.0</td>\n",
       "    </tr>\n",
       "    <tr>\n",
       "      <th>UnitPrice</th>\n",
       "      <td>18.0</td>\n",
       "      <td>347.777778</td>\n",
       "      <td>246.649443</td>\n",
       "      <td>50.0</td>\n",
       "      <td>196.25</td>\n",
       "      <td>292.5</td>\n",
       "      <td>622.50</td>\n",
       "      <td>720.0</td>\n",
       "    </tr>\n",
       "    <tr>\n",
       "      <th>TotalSales</th>\n",
       "      <td>18.0</td>\n",
       "      <td>696.666667</td>\n",
       "      <td>415.575434</td>\n",
       "      <td>200.0</td>\n",
       "      <td>400.00</td>\n",
       "      <td>602.5</td>\n",
       "      <td>855.00</td>\n",
       "      <td>1500.0</td>\n",
       "    </tr>\n",
       "  </tbody>\n",
       "</table>\n",
       "</div>"
      ],
      "text/plain": [
       "            count         mean         std     min      25%     50%      75%  \\\n",
       "OrderID      20.0  1010.500000    5.916080  1001.0  1005.75  1010.5  1015.25   \n",
       "Quantity     19.0     2.894737    2.233451     1.0     1.50     2.0     3.50   \n",
       "UnitPrice    18.0   347.777778  246.649443    50.0   196.25   292.5   622.50   \n",
       "TotalSales   18.0   696.666667  415.575434   200.0   400.00   602.5   855.00   \n",
       "\n",
       "               max  \n",
       "OrderID     1020.0  \n",
       "Quantity      10.0  \n",
       "UnitPrice    720.0  \n",
       "TotalSales  1500.0  "
      ]
     },
     "execution_count": 14,
     "metadata": {},
     "output_type": "execute_result"
    }
   ],
   "source": [
    "# Basic statistics\n",
    "df.describe().T"
   ]
  },
  {
   "cell_type": "code",
   "execution_count": 5,
   "id": "5d884a8c",
   "metadata": {},
   "outputs": [
    {
     "name": "stdout",
     "output_type": "stream",
     "text": [
      "<class 'pandas.core.frame.DataFrame'>\n",
      "RangeIndex: 20 entries, 0 to 19\n",
      "Data columns (total 9 columns):\n",
      " #   Column         Non-Null Count  Dtype  \n",
      "---  ------         --------------  -----  \n",
      " 0   OrderID        20 non-null     int64  \n",
      " 1   Date           20 non-null     object \n",
      " 2   Region         20 non-null     object \n",
      " 3   CustomerName   18 non-null     object \n",
      " 4   Product        20 non-null     object \n",
      " 5   Quantity       19 non-null     float64\n",
      " 6   UnitPrice      18 non-null     float64\n",
      " 7   TotalSales     18 non-null     float64\n",
      " 8   PaymentMethod  20 non-null     object \n",
      "dtypes: float64(3), int64(1), object(5)\n",
      "memory usage: 1.5+ KB\n"
     ]
    }
   ],
   "source": [
    "# information about dataset\n",
    "df.info()"
   ]
  },
  {
   "cell_type": "code",
   "execution_count": 6,
   "id": "758215e0",
   "metadata": {},
   "outputs": [
    {
     "data": {
      "text/plain": [
       "OrderID          0\n",
       "Date             0\n",
       "Region           0\n",
       "CustomerName     2\n",
       "Product          0\n",
       "Quantity         1\n",
       "UnitPrice        2\n",
       "TotalSales       2\n",
       "PaymentMethod    0\n",
       "dtype: int64"
      ]
     },
     "execution_count": 6,
     "metadata": {},
     "output_type": "execute_result"
    }
   ],
   "source": [
    "# check the missing values\n",
    "df.isnull().sum()"
   ]
  },
  {
   "cell_type": "code",
   "execution_count": 7,
   "id": "5b4f0faf",
   "metadata": {},
   "outputs": [],
   "source": [
    "# Handling missing values\n",
    "df_clean = df.dropna()"
   ]
  },
  {
   "cell_type": "code",
   "execution_count": 8,
   "id": "f96cbed9",
   "metadata": {},
   "outputs": [
    {
     "name": "stdout",
     "output_type": "stream",
     "text": [
      "\n",
      "Sum of Sales by Region:\n",
      " Region\n",
      "East     2520.0\n",
      "North    3765.0\n",
      "South    3830.0\n",
      "West      585.0\n",
      "Name: TotalSales, dtype: float64\n"
     ]
    }
   ],
   "source": [
    "# Task 1: Sum of sales by region\n",
    "sales_by_region = df_clean.groupby('Region')['TotalSales'].sum()\n",
    "print(\"\\nSum of Sales by Region:\\n\", sales_by_region)"
   ]
  },
  {
   "cell_type": "code",
   "execution_count": 9,
   "id": "592d3c40",
   "metadata": {},
   "outputs": [
    {
     "name": "stdout",
     "output_type": "stream",
     "text": [
      "\n",
      "Average Sales per Product:\n",
      " Product\n",
      "Headphones       415.0\n",
      "Keyboard         342.5\n",
      "Laptop          1170.0\n",
      "Mobile Phone     897.5\n",
      "Monitor          492.5\n",
      "Smart Watch      200.0\n",
      "Tablet           900.0\n",
      "Name: TotalSales, dtype: float64\n"
     ]
    }
   ],
   "source": [
    "# Task 2: Average sales per product\n",
    "avg_sales_product = df_clean.groupby('Product')['TotalSales'].mean()\n",
    "print(\"\\nAverage Sales per Product:\\n\", avg_sales_product)"
   ]
  },
  {
   "cell_type": "code",
   "execution_count": 10,
   "id": "48b1c74f",
   "metadata": {},
   "outputs": [
    {
     "name": "stdout",
     "output_type": "stream",
     "text": [
      "\n",
      "Highest Selling Product: Mobile Phone - $3590.00\n",
      "Lowest Selling Product: Smart Watch - $200.00\n"
     ]
    }
   ],
   "source": [
    "# Task 3: Highest & lowest selling products\n",
    "total_sales_product = df_clean.groupby('Product')['TotalSales'].sum()\n",
    "highest = total_sales_product.idxmax()\n",
    "lowest = total_sales_product.idxmin()\n",
    "print(f\"\\nHighest Selling Product: {highest} - ${total_sales_product.max():.2f}\")\n",
    "print(f\"Lowest Selling Product: {lowest} - ${total_sales_product.min():.2f}\")\n"
   ]
  },
  {
   "cell_type": "code",
   "execution_count": 11,
   "id": "03faf6f1",
   "metadata": {},
   "outputs": [
    {
     "name": "stdout",
     "output_type": "stream",
     "text": [
      "\n",
      "NumPy Statistics:\n",
      "Mean:\n",
      " Quantity        3.200000\n",
      "UnitPrice     310.000000\n",
      "TotalSales    713.333333\n",
      "dtype: float64\n",
      "Median:\n",
      " [  2. 290. 585.]\n",
      "Standard Deviation:\n",
      " Quantity        2.315167\n",
      "UnitPrice     222.845238\n",
      "TotalSales    436.247891\n",
      "dtype: float64\n"
     ]
    }
   ],
   "source": [
    "# Task 4: NumPy statistics on numerical columns\n",
    "numerical_cols = df_clean[['Quantity', 'UnitPrice', 'TotalSales']]\n",
    "\n",
    "mean_vals = np.mean(numerical_cols, axis=0)\n",
    "median_vals = np.median(numerical_cols, axis=0)\n",
    "std_vals = np.std(numerical_cols, axis=0)\n",
    "\n",
    "print(\"\\nNumPy Statistics:\")\n",
    "print(\"Mean:\\n\", mean_vals)\n",
    "print(\"Median:\\n\", median_vals)\n",
    "print(\"Standard Deviation:\\n\", std_vals)"
   ]
  }
 ],
 "metadata": {
  "kernelspec": {
   "display_name": "Python 3 (ipykernel)",
   "language": "python",
   "name": "python3"
  },
  "language_info": {
   "codemirror_mode": {
    "name": "ipython",
    "version": 3
   },
   "file_extension": ".py",
   "mimetype": "text/x-python",
   "name": "python",
   "nbconvert_exporter": "python",
   "pygments_lexer": "ipython3",
   "version": "3.9.18"
  }
 },
 "nbformat": 4,
 "nbformat_minor": 5
}
